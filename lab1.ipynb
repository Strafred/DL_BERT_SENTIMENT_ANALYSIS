{
 "cells": [
  {
   "cell_type": "markdown",
   "metadata": {},
   "source": [
    "# Лабораторная работа 1. Анализ тональности на основе BERT"
   ]
  },
  {
   "cell_type": "markdown",
   "metadata": {},
   "source": [
    "### Задание 1. Получение оценок качества с классической моделью BERT\n",
    "В этом задании требуется получить оценки качества на обучающих данных Kaggle (https://www.kaggle.com/c/sentiment-analysis-in-russian/data) с применением модели `RuBERT` на основе отложенной выборки или кросс-валидации.  \n",
    "\n",
    "При выполнении задания можно воспользоваться предоставленным ноутбуком (`huggingface_bert_finetuning`).  \n",
    "Подберите гиперпараметры (по крайней мере, количество эпох).  \n",
    "\n",
    "Выведите результаты и время построения моделей в удобном табличном виде, а также в виде графиков."
   ]
  },
  {
   "cell_type": "code",
   "metadata": {
    "ExecuteTime": {
     "end_time": "2024-12-13T17:15:03.649050Z",
     "start_time": "2024-12-13T17:14:54.834178Z"
    }
   },
   "source": [
    "import random\n",
    "from time import time\n",
    "\n",
    "import matplotlib.pyplot as plt\n",
    "import numpy as np\n",
    "import pandas as pd\n",
    "import sklearn.metrics\n",
    "import torch\n",
    "from datasets import Dataset\n",
    "from sklearn.metrics import confusion_matrix, accuracy_score, precision_recall_fscore_support\n",
    "from transformers import BertConfig, BertForSequenceClassification, BertTokenizer, Trainer, TrainingArguments\n",
    "\n",
    "full_train_data = pd.read_json(\"train.json\")\n",
    "full_test_data = pd.read_json(\"test.json\")"
   ],
   "outputs": [],
   "execution_count": 1
  },
  {
   "metadata": {
    "ExecuteTime": {
     "end_time": "2024-12-13T17:15:03.686346Z",
     "start_time": "2024-12-13T17:15:03.673062Z"
    }
   },
   "cell_type": "code",
   "source": [
    "def one_hot_encode(data):\n",
    "    data['label'] = data['sentiment'].map({'negative': 0, 'neutral': 1, 'positive': 2})\n",
    "    return data\n",
    "\n",
    "def one_hot_decode(data : pd.DataFrame):\n",
    "    data['sentiment'] = data['label'].map({0: 'negative', 1: 'neutral', 2: 'positive'})\n",
    "    data = data.drop(columns=['label'], inplace=True)\n",
    "    return data\n",
    "\n",
    "full_train_data = one_hot_encode(full_train_data)"
   ],
   "outputs": [],
   "execution_count": 2
  },
  {
   "metadata": {
    "ExecuteTime": {
     "end_time": "2024-12-13T17:15:04.610992Z",
     "start_time": "2024-12-13T17:15:03.709363Z"
    }
   },
   "cell_type": "code",
   "source": [
    "PRE_TRAINED_MODEL_NAME = 'ai-forever/ruBert-base'\n",
    "tokenizer = BertTokenizer.from_pretrained(PRE_TRAINED_MODEL_NAME)\n",
    "\n",
    "MAX_LEN = 512\n",
    "seed = 42\n",
    "random.seed(seed)\n",
    "np.random.seed(seed)\n",
    "torch.manual_seed(seed)"
   ],
   "outputs": [
    {
     "data": {
      "text/plain": [
       "<torch._C.Generator at 0x1c094fb1e70>"
      ]
     },
     "execution_count": 3,
     "metadata": {},
     "output_type": "execute_result"
    }
   ],
   "execution_count": 3
  },
  {
   "metadata": {
    "ExecuteTime": {
     "end_time": "2024-12-13T17:15:05.717495Z",
     "start_time": "2024-12-13T17:15:04.778313Z"
    }
   },
   "cell_type": "code",
   "source": [
    "from sklearn.model_selection import train_test_split\n",
    "\n",
    "train_data, eval_data = train_test_split(full_train_data, test_size=0.2, random_state=seed, stratify=full_train_data['label'])\n",
    "\n",
    "full_train_dataset = Dataset.from_pandas(full_train_data)\n",
    "train_dataset = Dataset.from_pandas(train_data)\n",
    "eval_dataset = Dataset.from_pandas(eval_data)\n",
    "full_test_dataset = Dataset.from_pandas(full_test_data)"
   ],
   "outputs": [],
   "execution_count": 4
  },
  {
   "metadata": {
    "ExecuteTime": {
     "end_time": "2024-12-13T17:21:08.514785Z",
     "start_time": "2024-12-13T17:15:05.742556Z"
    }
   },
   "cell_type": "code",
   "source": [
    "def tokenize(batch):\n",
    "    return tokenizer(\n",
    "        batch['text'],\n",
    "        max_length=MAX_LEN,\n",
    "        padding='max_length',\n",
    "        truncation='longest_first'\n",
    "    )\n",
    "\n",
    "full_train_dataset = full_train_dataset.map(tokenize, batched=True, batch_size=len(full_train_dataset))\n",
    "train_dataset = train_dataset.map(tokenize, batched=True, batch_size=len(train_dataset))\n",
    "eval_dataset = eval_dataset.map(tokenize, batched=True, batch_size=len(eval_dataset))\n",
    "full_test_dataset = full_test_dataset.map(tokenize, batched=True, batch_size=len(full_test_dataset))"
   ],
   "outputs": [
    {
     "data": {
      "text/plain": [
       "Map:   0%|          | 0/8263 [00:00<?, ? examples/s]"
      ],
      "application/vnd.jupyter.widget-view+json": {
       "version_major": 2,
       "version_minor": 0,
       "model_id": "9d022d5a1d214143a4dc273ebbdb7e4c"
      }
     },
     "metadata": {},
     "output_type": "display_data"
    },
    {
     "data": {
      "text/plain": [
       "Map:   0%|          | 0/6610 [00:00<?, ? examples/s]"
      ],
      "application/vnd.jupyter.widget-view+json": {
       "version_major": 2,
       "version_minor": 0,
       "model_id": "01f0d18a0c5b426e973f0ffe3b90d455"
      }
     },
     "metadata": {},
     "output_type": "display_data"
    },
    {
     "data": {
      "text/plain": [
       "Map:   0%|          | 0/1653 [00:00<?, ? examples/s]"
      ],
      "application/vnd.jupyter.widget-view+json": {
       "version_major": 2,
       "version_minor": 0,
       "model_id": "07615ccccd0a44faa67a507ed0215a62"
      }
     },
     "metadata": {},
     "output_type": "display_data"
    },
    {
     "data": {
      "text/plain": [
       "Map:   0%|          | 0/2056 [00:00<?, ? examples/s]"
      ],
      "application/vnd.jupyter.widget-view+json": {
       "version_major": 2,
       "version_minor": 0,
       "model_id": "3f8fb38246d34a0fa8c8fb00fe1e936b"
      }
     },
     "metadata": {},
     "output_type": "display_data"
    }
   ],
   "execution_count": 5
  },
  {
   "metadata": {
    "ExecuteTime": {
     "end_time": "2024-12-13T17:21:08.549419Z",
     "start_time": "2024-12-13T17:21:08.541673Z"
    }
   },
   "cell_type": "code",
   "source": [
    "full_train_dataset.set_format('torch', columns=['input_ids', 'attention_mask', 'label'])\n",
    "train_dataset.set_format('torch', columns=['input_ids', 'attention_mask', 'label'])\n",
    "eval_dataset.set_format('torch', columns=['input_ids', 'attention_mask', 'label'])\n",
    "full_test_dataset.set_format('torch', columns=['input_ids', 'attention_mask'])"
   ],
   "outputs": [],
   "execution_count": 6
  },
  {
   "metadata": {
    "ExecuteTime": {
     "end_time": "2024-12-13T17:21:08.644262Z",
     "start_time": "2024-12-13T17:21:08.627939Z"
    }
   },
   "cell_type": "code",
   "source": "full_train_dataset[0].keys()",
   "outputs": [
    {
     "data": {
      "text/plain": [
       "dict_keys(['label', 'input_ids', 'attention_mask'])"
      ]
     },
     "execution_count": 7,
     "metadata": {},
     "output_type": "execute_result"
    }
   ],
   "execution_count": 7
  },
  {
   "metadata": {
    "ExecuteTime": {
     "end_time": "2024-12-13T17:21:09.131001Z",
     "start_time": "2024-12-13T17:21:08.676295Z"
    }
   },
   "cell_type": "code",
   "source": [
    "config = BertConfig.from_pretrained(PRE_TRAINED_MODEL_NAME)\n",
    "config.num_labels"
   ],
   "outputs": [
    {
     "data": {
      "text/plain": [
       "2"
      ]
     },
     "execution_count": 8,
     "metadata": {},
     "output_type": "execute_result"
    }
   ],
   "execution_count": 8
  },
  {
   "metadata": {
    "ExecuteTime": {
     "end_time": "2024-12-13T17:21:10.281243Z",
     "start_time": "2024-12-13T17:21:09.170667Z"
    }
   },
   "cell_type": "code",
   "source": [
    "config.num_labels = 3\n",
    "model = BertForSequenceClassification.from_pretrained(PRE_TRAINED_MODEL_NAME, config=config)\n",
    "model"
   ],
   "outputs": [
    {
     "name": "stderr",
     "output_type": "stream",
     "text": [
      "Some weights of BertForSequenceClassification were not initialized from the model checkpoint at ai-forever/ruBert-base and are newly initialized: ['classifier.bias', 'classifier.weight']\n",
      "You should probably TRAIN this model on a down-stream task to be able to use it for predictions and inference.\n"
     ]
    },
    {
     "data": {
      "text/plain": [
       "BertForSequenceClassification(\n",
       "  (bert): BertModel(\n",
       "    (embeddings): BertEmbeddings(\n",
       "      (word_embeddings): Embedding(120138, 768, padding_idx=0)\n",
       "      (position_embeddings): Embedding(512, 768)\n",
       "      (token_type_embeddings): Embedding(2, 768)\n",
       "      (LayerNorm): LayerNorm((768,), eps=1e-12, elementwise_affine=True)\n",
       "      (dropout): Dropout(p=0.1, inplace=False)\n",
       "    )\n",
       "    (encoder): BertEncoder(\n",
       "      (layer): ModuleList(\n",
       "        (0-11): 12 x BertLayer(\n",
       "          (attention): BertAttention(\n",
       "            (self): BertSdpaSelfAttention(\n",
       "              (query): Linear(in_features=768, out_features=768, bias=True)\n",
       "              (key): Linear(in_features=768, out_features=768, bias=True)\n",
       "              (value): Linear(in_features=768, out_features=768, bias=True)\n",
       "              (dropout): Dropout(p=0.1, inplace=False)\n",
       "            )\n",
       "            (output): BertSelfOutput(\n",
       "              (dense): Linear(in_features=768, out_features=768, bias=True)\n",
       "              (LayerNorm): LayerNorm((768,), eps=1e-12, elementwise_affine=True)\n",
       "              (dropout): Dropout(p=0.1, inplace=False)\n",
       "            )\n",
       "          )\n",
       "          (intermediate): BertIntermediate(\n",
       "            (dense): Linear(in_features=768, out_features=3072, bias=True)\n",
       "            (intermediate_act_fn): GELUActivation()\n",
       "          )\n",
       "          (output): BertOutput(\n",
       "            (dense): Linear(in_features=3072, out_features=768, bias=True)\n",
       "            (LayerNorm): LayerNorm((768,), eps=1e-12, elementwise_affine=True)\n",
       "            (dropout): Dropout(p=0.1, inplace=False)\n",
       "          )\n",
       "        )\n",
       "      )\n",
       "    )\n",
       "    (pooler): BertPooler(\n",
       "      (dense): Linear(in_features=768, out_features=768, bias=True)\n",
       "      (activation): Tanh()\n",
       "    )\n",
       "  )\n",
       "  (dropout): Dropout(p=0.1, inplace=False)\n",
       "  (classifier): Linear(in_features=768, out_features=3, bias=True)\n",
       ")"
      ]
     },
     "execution_count": 9,
     "metadata": {},
     "output_type": "execute_result"
    }
   ],
   "execution_count": 9
  },
  {
   "metadata": {
    "ExecuteTime": {
     "end_time": "2024-12-13T17:21:10.341365Z",
     "start_time": "2024-12-13T17:21:10.330275Z"
    }
   },
   "cell_type": "code",
   "source": [
    "all_parameters = 0\n",
    "trainable_parameters = 0\n",
    "for parameter in model.named_parameters():\n",
    "    print(f'{parameter[0]}: {list(parameter[1].data.size())} - {parameter[1].numel()}')\n",
    "    all_parameters += parameter[1].numel()\n",
    "    if parameter[1].requires_grad:\n",
    "        trainable_parameters += parameter[1].numel()\n",
    "\n",
    "print(f'\\nAll parameters = {all_parameters}')\n",
    "print(f'Trainable parameters = {trainable_parameters}')"
   ],
   "outputs": [
    {
     "name": "stdout",
     "output_type": "stream",
     "text": [
      "bert.embeddings.word_embeddings.weight: [120138, 768] - 92265984\n",
      "bert.embeddings.position_embeddings.weight: [512, 768] - 393216\n",
      "bert.embeddings.token_type_embeddings.weight: [2, 768] - 1536\n",
      "bert.embeddings.LayerNorm.weight: [768] - 768\n",
      "bert.embeddings.LayerNorm.bias: [768] - 768\n",
      "bert.encoder.layer.0.attention.self.query.weight: [768, 768] - 589824\n",
      "bert.encoder.layer.0.attention.self.query.bias: [768] - 768\n",
      "bert.encoder.layer.0.attention.self.key.weight: [768, 768] - 589824\n",
      "bert.encoder.layer.0.attention.self.key.bias: [768] - 768\n",
      "bert.encoder.layer.0.attention.self.value.weight: [768, 768] - 589824\n",
      "bert.encoder.layer.0.attention.self.value.bias: [768] - 768\n",
      "bert.encoder.layer.0.attention.output.dense.weight: [768, 768] - 589824\n",
      "bert.encoder.layer.0.attention.output.dense.bias: [768] - 768\n",
      "bert.encoder.layer.0.attention.output.LayerNorm.weight: [768] - 768\n",
      "bert.encoder.layer.0.attention.output.LayerNorm.bias: [768] - 768\n",
      "bert.encoder.layer.0.intermediate.dense.weight: [3072, 768] - 2359296\n",
      "bert.encoder.layer.0.intermediate.dense.bias: [3072] - 3072\n",
      "bert.encoder.layer.0.output.dense.weight: [768, 3072] - 2359296\n",
      "bert.encoder.layer.0.output.dense.bias: [768] - 768\n",
      "bert.encoder.layer.0.output.LayerNorm.weight: [768] - 768\n",
      "bert.encoder.layer.0.output.LayerNorm.bias: [768] - 768\n",
      "bert.encoder.layer.1.attention.self.query.weight: [768, 768] - 589824\n",
      "bert.encoder.layer.1.attention.self.query.bias: [768] - 768\n",
      "bert.encoder.layer.1.attention.self.key.weight: [768, 768] - 589824\n",
      "bert.encoder.layer.1.attention.self.key.bias: [768] - 768\n",
      "bert.encoder.layer.1.attention.self.value.weight: [768, 768] - 589824\n",
      "bert.encoder.layer.1.attention.self.value.bias: [768] - 768\n",
      "bert.encoder.layer.1.attention.output.dense.weight: [768, 768] - 589824\n",
      "bert.encoder.layer.1.attention.output.dense.bias: [768] - 768\n",
      "bert.encoder.layer.1.attention.output.LayerNorm.weight: [768] - 768\n",
      "bert.encoder.layer.1.attention.output.LayerNorm.bias: [768] - 768\n",
      "bert.encoder.layer.1.intermediate.dense.weight: [3072, 768] - 2359296\n",
      "bert.encoder.layer.1.intermediate.dense.bias: [3072] - 3072\n",
      "bert.encoder.layer.1.output.dense.weight: [768, 3072] - 2359296\n",
      "bert.encoder.layer.1.output.dense.bias: [768] - 768\n",
      "bert.encoder.layer.1.output.LayerNorm.weight: [768] - 768\n",
      "bert.encoder.layer.1.output.LayerNorm.bias: [768] - 768\n",
      "bert.encoder.layer.2.attention.self.query.weight: [768, 768] - 589824\n",
      "bert.encoder.layer.2.attention.self.query.bias: [768] - 768\n",
      "bert.encoder.layer.2.attention.self.key.weight: [768, 768] - 589824\n",
      "bert.encoder.layer.2.attention.self.key.bias: [768] - 768\n",
      "bert.encoder.layer.2.attention.self.value.weight: [768, 768] - 589824\n",
      "bert.encoder.layer.2.attention.self.value.bias: [768] - 768\n",
      "bert.encoder.layer.2.attention.output.dense.weight: [768, 768] - 589824\n",
      "bert.encoder.layer.2.attention.output.dense.bias: [768] - 768\n",
      "bert.encoder.layer.2.attention.output.LayerNorm.weight: [768] - 768\n",
      "bert.encoder.layer.2.attention.output.LayerNorm.bias: [768] - 768\n",
      "bert.encoder.layer.2.intermediate.dense.weight: [3072, 768] - 2359296\n",
      "bert.encoder.layer.2.intermediate.dense.bias: [3072] - 3072\n",
      "bert.encoder.layer.2.output.dense.weight: [768, 3072] - 2359296\n",
      "bert.encoder.layer.2.output.dense.bias: [768] - 768\n",
      "bert.encoder.layer.2.output.LayerNorm.weight: [768] - 768\n",
      "bert.encoder.layer.2.output.LayerNorm.bias: [768] - 768\n",
      "bert.encoder.layer.3.attention.self.query.weight: [768, 768] - 589824\n",
      "bert.encoder.layer.3.attention.self.query.bias: [768] - 768\n",
      "bert.encoder.layer.3.attention.self.key.weight: [768, 768] - 589824\n",
      "bert.encoder.layer.3.attention.self.key.bias: [768] - 768\n",
      "bert.encoder.layer.3.attention.self.value.weight: [768, 768] - 589824\n",
      "bert.encoder.layer.3.attention.self.value.bias: [768] - 768\n",
      "bert.encoder.layer.3.attention.output.dense.weight: [768, 768] - 589824\n",
      "bert.encoder.layer.3.attention.output.dense.bias: [768] - 768\n",
      "bert.encoder.layer.3.attention.output.LayerNorm.weight: [768] - 768\n",
      "bert.encoder.layer.3.attention.output.LayerNorm.bias: [768] - 768\n",
      "bert.encoder.layer.3.intermediate.dense.weight: [3072, 768] - 2359296\n",
      "bert.encoder.layer.3.intermediate.dense.bias: [3072] - 3072\n",
      "bert.encoder.layer.3.output.dense.weight: [768, 3072] - 2359296\n",
      "bert.encoder.layer.3.output.dense.bias: [768] - 768\n",
      "bert.encoder.layer.3.output.LayerNorm.weight: [768] - 768\n",
      "bert.encoder.layer.3.output.LayerNorm.bias: [768] - 768\n",
      "bert.encoder.layer.4.attention.self.query.weight: [768, 768] - 589824\n",
      "bert.encoder.layer.4.attention.self.query.bias: [768] - 768\n",
      "bert.encoder.layer.4.attention.self.key.weight: [768, 768] - 589824\n",
      "bert.encoder.layer.4.attention.self.key.bias: [768] - 768\n",
      "bert.encoder.layer.4.attention.self.value.weight: [768, 768] - 589824\n",
      "bert.encoder.layer.4.attention.self.value.bias: [768] - 768\n",
      "bert.encoder.layer.4.attention.output.dense.weight: [768, 768] - 589824\n",
      "bert.encoder.layer.4.attention.output.dense.bias: [768] - 768\n",
      "bert.encoder.layer.4.attention.output.LayerNorm.weight: [768] - 768\n",
      "bert.encoder.layer.4.attention.output.LayerNorm.bias: [768] - 768\n",
      "bert.encoder.layer.4.intermediate.dense.weight: [3072, 768] - 2359296\n",
      "bert.encoder.layer.4.intermediate.dense.bias: [3072] - 3072\n",
      "bert.encoder.layer.4.output.dense.weight: [768, 3072] - 2359296\n",
      "bert.encoder.layer.4.output.dense.bias: [768] - 768\n",
      "bert.encoder.layer.4.output.LayerNorm.weight: [768] - 768\n",
      "bert.encoder.layer.4.output.LayerNorm.bias: [768] - 768\n",
      "bert.encoder.layer.5.attention.self.query.weight: [768, 768] - 589824\n",
      "bert.encoder.layer.5.attention.self.query.bias: [768] - 768\n",
      "bert.encoder.layer.5.attention.self.key.weight: [768, 768] - 589824\n",
      "bert.encoder.layer.5.attention.self.key.bias: [768] - 768\n",
      "bert.encoder.layer.5.attention.self.value.weight: [768, 768] - 589824\n",
      "bert.encoder.layer.5.attention.self.value.bias: [768] - 768\n",
      "bert.encoder.layer.5.attention.output.dense.weight: [768, 768] - 589824\n",
      "bert.encoder.layer.5.attention.output.dense.bias: [768] - 768\n",
      "bert.encoder.layer.5.attention.output.LayerNorm.weight: [768] - 768\n",
      "bert.encoder.layer.5.attention.output.LayerNorm.bias: [768] - 768\n",
      "bert.encoder.layer.5.intermediate.dense.weight: [3072, 768] - 2359296\n",
      "bert.encoder.layer.5.intermediate.dense.bias: [3072] - 3072\n",
      "bert.encoder.layer.5.output.dense.weight: [768, 3072] - 2359296\n",
      "bert.encoder.layer.5.output.dense.bias: [768] - 768\n",
      "bert.encoder.layer.5.output.LayerNorm.weight: [768] - 768\n",
      "bert.encoder.layer.5.output.LayerNorm.bias: [768] - 768\n",
      "bert.encoder.layer.6.attention.self.query.weight: [768, 768] - 589824\n",
      "bert.encoder.layer.6.attention.self.query.bias: [768] - 768\n",
      "bert.encoder.layer.6.attention.self.key.weight: [768, 768] - 589824\n",
      "bert.encoder.layer.6.attention.self.key.bias: [768] - 768\n",
      "bert.encoder.layer.6.attention.self.value.weight: [768, 768] - 589824\n",
      "bert.encoder.layer.6.attention.self.value.bias: [768] - 768\n",
      "bert.encoder.layer.6.attention.output.dense.weight: [768, 768] - 589824\n",
      "bert.encoder.layer.6.attention.output.dense.bias: [768] - 768\n",
      "bert.encoder.layer.6.attention.output.LayerNorm.weight: [768] - 768\n",
      "bert.encoder.layer.6.attention.output.LayerNorm.bias: [768] - 768\n",
      "bert.encoder.layer.6.intermediate.dense.weight: [3072, 768] - 2359296\n",
      "bert.encoder.layer.6.intermediate.dense.bias: [3072] - 3072\n",
      "bert.encoder.layer.6.output.dense.weight: [768, 3072] - 2359296\n",
      "bert.encoder.layer.6.output.dense.bias: [768] - 768\n",
      "bert.encoder.layer.6.output.LayerNorm.weight: [768] - 768\n",
      "bert.encoder.layer.6.output.LayerNorm.bias: [768] - 768\n",
      "bert.encoder.layer.7.attention.self.query.weight: [768, 768] - 589824\n",
      "bert.encoder.layer.7.attention.self.query.bias: [768] - 768\n",
      "bert.encoder.layer.7.attention.self.key.weight: [768, 768] - 589824\n",
      "bert.encoder.layer.7.attention.self.key.bias: [768] - 768\n",
      "bert.encoder.layer.7.attention.self.value.weight: [768, 768] - 589824\n",
      "bert.encoder.layer.7.attention.self.value.bias: [768] - 768\n",
      "bert.encoder.layer.7.attention.output.dense.weight: [768, 768] - 589824\n",
      "bert.encoder.layer.7.attention.output.dense.bias: [768] - 768\n",
      "bert.encoder.layer.7.attention.output.LayerNorm.weight: [768] - 768\n",
      "bert.encoder.layer.7.attention.output.LayerNorm.bias: [768] - 768\n",
      "bert.encoder.layer.7.intermediate.dense.weight: [3072, 768] - 2359296\n",
      "bert.encoder.layer.7.intermediate.dense.bias: [3072] - 3072\n",
      "bert.encoder.layer.7.output.dense.weight: [768, 3072] - 2359296\n",
      "bert.encoder.layer.7.output.dense.bias: [768] - 768\n",
      "bert.encoder.layer.7.output.LayerNorm.weight: [768] - 768\n",
      "bert.encoder.layer.7.output.LayerNorm.bias: [768] - 768\n",
      "bert.encoder.layer.8.attention.self.query.weight: [768, 768] - 589824\n",
      "bert.encoder.layer.8.attention.self.query.bias: [768] - 768\n",
      "bert.encoder.layer.8.attention.self.key.weight: [768, 768] - 589824\n",
      "bert.encoder.layer.8.attention.self.key.bias: [768] - 768\n",
      "bert.encoder.layer.8.attention.self.value.weight: [768, 768] - 589824\n",
      "bert.encoder.layer.8.attention.self.value.bias: [768] - 768\n",
      "bert.encoder.layer.8.attention.output.dense.weight: [768, 768] - 589824\n",
      "bert.encoder.layer.8.attention.output.dense.bias: [768] - 768\n",
      "bert.encoder.layer.8.attention.output.LayerNorm.weight: [768] - 768\n",
      "bert.encoder.layer.8.attention.output.LayerNorm.bias: [768] - 768\n",
      "bert.encoder.layer.8.intermediate.dense.weight: [3072, 768] - 2359296\n",
      "bert.encoder.layer.8.intermediate.dense.bias: [3072] - 3072\n",
      "bert.encoder.layer.8.output.dense.weight: [768, 3072] - 2359296\n",
      "bert.encoder.layer.8.output.dense.bias: [768] - 768\n",
      "bert.encoder.layer.8.output.LayerNorm.weight: [768] - 768\n",
      "bert.encoder.layer.8.output.LayerNorm.bias: [768] - 768\n",
      "bert.encoder.layer.9.attention.self.query.weight: [768, 768] - 589824\n",
      "bert.encoder.layer.9.attention.self.query.bias: [768] - 768\n",
      "bert.encoder.layer.9.attention.self.key.weight: [768, 768] - 589824\n",
      "bert.encoder.layer.9.attention.self.key.bias: [768] - 768\n",
      "bert.encoder.layer.9.attention.self.value.weight: [768, 768] - 589824\n",
      "bert.encoder.layer.9.attention.self.value.bias: [768] - 768\n",
      "bert.encoder.layer.9.attention.output.dense.weight: [768, 768] - 589824\n",
      "bert.encoder.layer.9.attention.output.dense.bias: [768] - 768\n",
      "bert.encoder.layer.9.attention.output.LayerNorm.weight: [768] - 768\n",
      "bert.encoder.layer.9.attention.output.LayerNorm.bias: [768] - 768\n",
      "bert.encoder.layer.9.intermediate.dense.weight: [3072, 768] - 2359296\n",
      "bert.encoder.layer.9.intermediate.dense.bias: [3072] - 3072\n",
      "bert.encoder.layer.9.output.dense.weight: [768, 3072] - 2359296\n",
      "bert.encoder.layer.9.output.dense.bias: [768] - 768\n",
      "bert.encoder.layer.9.output.LayerNorm.weight: [768] - 768\n",
      "bert.encoder.layer.9.output.LayerNorm.bias: [768] - 768\n",
      "bert.encoder.layer.10.attention.self.query.weight: [768, 768] - 589824\n",
      "bert.encoder.layer.10.attention.self.query.bias: [768] - 768\n",
      "bert.encoder.layer.10.attention.self.key.weight: [768, 768] - 589824\n",
      "bert.encoder.layer.10.attention.self.key.bias: [768] - 768\n",
      "bert.encoder.layer.10.attention.self.value.weight: [768, 768] - 589824\n",
      "bert.encoder.layer.10.attention.self.value.bias: [768] - 768\n",
      "bert.encoder.layer.10.attention.output.dense.weight: [768, 768] - 589824\n",
      "bert.encoder.layer.10.attention.output.dense.bias: [768] - 768\n",
      "bert.encoder.layer.10.attention.output.LayerNorm.weight: [768] - 768\n",
      "bert.encoder.layer.10.attention.output.LayerNorm.bias: [768] - 768\n",
      "bert.encoder.layer.10.intermediate.dense.weight: [3072, 768] - 2359296\n",
      "bert.encoder.layer.10.intermediate.dense.bias: [3072] - 3072\n",
      "bert.encoder.layer.10.output.dense.weight: [768, 3072] - 2359296\n",
      "bert.encoder.layer.10.output.dense.bias: [768] - 768\n",
      "bert.encoder.layer.10.output.LayerNorm.weight: [768] - 768\n",
      "bert.encoder.layer.10.output.LayerNorm.bias: [768] - 768\n",
      "bert.encoder.layer.11.attention.self.query.weight: [768, 768] - 589824\n",
      "bert.encoder.layer.11.attention.self.query.bias: [768] - 768\n",
      "bert.encoder.layer.11.attention.self.key.weight: [768, 768] - 589824\n",
      "bert.encoder.layer.11.attention.self.key.bias: [768] - 768\n",
      "bert.encoder.layer.11.attention.self.value.weight: [768, 768] - 589824\n",
      "bert.encoder.layer.11.attention.self.value.bias: [768] - 768\n",
      "bert.encoder.layer.11.attention.output.dense.weight: [768, 768] - 589824\n",
      "bert.encoder.layer.11.attention.output.dense.bias: [768] - 768\n",
      "bert.encoder.layer.11.attention.output.LayerNorm.weight: [768] - 768\n",
      "bert.encoder.layer.11.attention.output.LayerNorm.bias: [768] - 768\n",
      "bert.encoder.layer.11.intermediate.dense.weight: [3072, 768] - 2359296\n",
      "bert.encoder.layer.11.intermediate.dense.bias: [3072] - 3072\n",
      "bert.encoder.layer.11.output.dense.weight: [768, 3072] - 2359296\n",
      "bert.encoder.layer.11.output.dense.bias: [768] - 768\n",
      "bert.encoder.layer.11.output.LayerNorm.weight: [768] - 768\n",
      "bert.encoder.layer.11.output.LayerNorm.bias: [768] - 768\n",
      "bert.pooler.dense.weight: [768, 768] - 589824\n",
      "bert.pooler.dense.bias: [768] - 768\n",
      "classifier.weight: [3, 768] - 2304\n",
      "classifier.bias: [3] - 3\n",
      "\n",
      "All parameters = 178309635\n",
      "Trainable parameters = 178309635\n"
     ]
    }
   ],
   "execution_count": 10
  },
  {
   "metadata": {
    "ExecuteTime": {
     "end_time": "2024-12-13T17:21:10.392733Z",
     "start_time": "2024-12-13T17:21:10.385907Z"
    }
   },
   "cell_type": "code",
   "source": [
    "hyperparameters_stats_df = pd.DataFrame(\n",
    "    data=None,\n",
    "    columns=['epochs', 'f1-score', 'train_time', 'eval_time'])\n",
    "hyperparameters_stats_df_index = 0\n",
    "\n",
    "def append_stats(epochs, score, train_time, eval_time):\n",
    "    global hyperparameters_stats_df_index\n",
    "    hyperparameters_stats_df.loc[hyperparameters_stats_df_index] = [epochs, score, train_time, eval_time]\n",
    "    hyperparameters_stats_df_index += 1"
   ],
   "outputs": [],
   "execution_count": 11
  },
  {
   "metadata": {
    "ExecuteTime": {
     "end_time": "2024-12-13T22:41:49.152891Z",
     "start_time": "2024-12-13T17:21:10.425948Z"
    }
   },
   "cell_type": "code",
   "source": [
    "device = torch.device('cuda' if torch.cuda.is_available() else 'cpu')\n",
    "\n",
    "def compute_metrics(pred):\n",
    "    labels = pred.label_ids\n",
    "    preds = pred.predictions.argmax(-1)\n",
    "    precision, recall, f1, _ = precision_recall_fscore_support(labels, preds)\n",
    "    acc = accuracy_score(labels, preds)\n",
    "    return {\n",
    "        'accuracy': acc,\n",
    "        'f1_mean': np.mean(f1),\n",
    "        'f1': f1.tolist(),\n",
    "        'precision': precision.tolist(),\n",
    "        'recall': recall.tolist()\n",
    "    }\n",
    "\n",
    "epochs_number = [1, 2, 3, 5]\n",
    "\n",
    "for epoch in epochs_number:\n",
    "    np.random.seed(seed)\n",
    "    torch.manual_seed(seed)\n",
    "    random.seed(seed)\n",
    "    \n",
    "    model = BertForSequenceClassification.from_pretrained(PRE_TRAINED_MODEL_NAME, config=config)\n",
    "    model.to(device)\n",
    "    \n",
    "    training_args = TrainingArguments(\n",
    "        output_dir='./results',\n",
    "        overwrite_output_dir=True,\n",
    "        save_steps=5000,\n",
    "        num_train_epochs=epoch,\n",
    "        per_device_train_batch_size=2,\n",
    "        per_device_eval_batch_size=2,\n",
    "        weight_decay=0.01,\n",
    "        learning_rate=1e-5,\n",
    "        logging_dir='./logs',\n",
    "        evaluation_strategy='epoch',\n",
    "    )\n",
    "\n",
    "    trainer = Trainer(\n",
    "        model=model,\n",
    "        args=training_args,\n",
    "        train_dataset=train_dataset,\n",
    "        eval_dataset=eval_dataset,\n",
    "        compute_metrics=compute_metrics\n",
    "    )\n",
    "\n",
    "    train_start_time = time()\n",
    "    trainer.train()\n",
    "    train_end_time = time()\n",
    "    \n",
    "    eval_start_time = time()\n",
    "    eval_results = trainer.evaluate(eval_dataset)\n",
    "    eval_end_time = time()\n",
    "    \n",
    "    print(eval_results)\n",
    "    macro_f1_score = np.mean(eval_results['eval_f1'])\n",
    "    append_stats(epoch, macro_f1_score, train_end_time - train_start_time, eval_end_time - eval_start_time)"
   ],
   "outputs": [
    {
     "name": "stderr",
     "output_type": "stream",
     "text": [
      "Some weights of BertForSequenceClassification were not initialized from the model checkpoint at ai-forever/ruBert-base and are newly initialized: ['classifier.bias', 'classifier.weight']\n",
      "You should probably TRAIN this model on a down-stream task to be able to use it for predictions and inference.\n",
      "C:\\Users\\bred7\\anaconda3\\envs\\vyatsu_environment\\Lib\\site-packages\\transformers\\training_args.py:1545: FutureWarning: `evaluation_strategy` is deprecated and will be removed in version 4.46 of 🤗 Transformers. Use `eval_strategy` instead\n",
      "  warnings.warn(\n",
      "C:\\Users\\bred7\\anaconda3\\envs\\vyatsu_environment\\Lib\\site-packages\\transformers\\models\\bert\\modeling_bert.py:440: UserWarning: 1Torch was not compiled with flash attention. (Triggered internally at ..\\aten\\src\\ATen\\native\\transformers\\cuda\\sdp_utils.cpp:455.)\n",
      "  attn_output = torch.nn.functional.scaled_dot_product_attention(\n"
     ]
    },
    {
     "data": {
      "text/plain": [
       "<IPython.core.display.HTML object>"
      ],
      "text/html": [
       "\n",
       "    <div>\n",
       "      \n",
       "      <progress value='3305' max='3305' style='width:300px; height:20px; vertical-align: middle;'></progress>\n",
       "      [3305/3305 28:28, Epoch 1/1]\n",
       "    </div>\n",
       "    <table border=\"1\" class=\"dataframe\">\n",
       "  <thead>\n",
       " <tr style=\"text-align: left;\">\n",
       "      <th>Epoch</th>\n",
       "      <th>Training Loss</th>\n",
       "      <th>Validation Loss</th>\n",
       "      <th>Accuracy</th>\n",
       "      <th>F1 Mean</th>\n",
       "      <th>F1</th>\n",
       "      <th>Precision</th>\n",
       "      <th>Recall</th>\n",
       "    </tr>\n",
       "  </thead>\n",
       "  <tbody>\n",
       "    <tr>\n",
       "      <td>1</td>\n",
       "      <td>0.905700</td>\n",
       "      <td>0.944133</td>\n",
       "      <td>0.684815</td>\n",
       "      <td>0.682870</td>\n",
       "      <td>[0.6735395189003437, 0.685785536159601, 0.6892857142857143]</td>\n",
       "      <td>[0.6644067796610169, 0.6900878293601004, 0.6880570409982175]</td>\n",
       "      <td>[0.6829268292682927, 0.6815365551425031, 0.6905187835420393]</td>\n",
       "    </tr>\n",
       "  </tbody>\n",
       "</table><p>"
      ]
     },
     "metadata": {},
     "output_type": "display_data"
    },
    {
     "data": {
      "text/plain": [
       "<IPython.core.display.HTML object>"
      ],
      "text/html": [
       "\n",
       "    <div>\n",
       "      \n",
       "      <progress value='827' max='827' style='width:300px; height:20px; vertical-align: middle;'></progress>\n",
       "      [827/827 01:40]\n",
       "    </div>\n",
       "    "
      ]
     },
     "metadata": {},
     "output_type": "display_data"
    },
    {
     "name": "stdout",
     "output_type": "stream",
     "text": [
      "{'eval_loss': 0.9441326856613159, 'eval_accuracy': 0.6848154869933454, 'eval_f1_mean': 0.682870256448553, 'eval_f1': [0.6735395189003437, 0.685785536159601, 0.6892857142857143], 'eval_precision': [0.6644067796610169, 0.6900878293601004, 0.6880570409982175], 'eval_recall': [0.6829268292682927, 0.6815365551425031, 0.6905187835420393], 'eval_runtime': 100.437, 'eval_samples_per_second': 16.458, 'eval_steps_per_second': 8.234, 'epoch': 1.0}\n"
     ]
    },
    {
     "name": "stderr",
     "output_type": "stream",
     "text": [
      "Some weights of BertForSequenceClassification were not initialized from the model checkpoint at ai-forever/ruBert-base and are newly initialized: ['classifier.bias', 'classifier.weight']\n",
      "You should probably TRAIN this model on a down-stream task to be able to use it for predictions and inference.\n",
      "C:\\Users\\bred7\\anaconda3\\envs\\vyatsu_environment\\Lib\\site-packages\\transformers\\training_args.py:1545: FutureWarning: `evaluation_strategy` is deprecated and will be removed in version 4.46 of 🤗 Transformers. Use `eval_strategy` instead\n",
      "  warnings.warn(\n"
     ]
    },
    {
     "data": {
      "text/plain": [
       "<IPython.core.display.HTML object>"
      ],
      "text/html": [
       "\n",
       "    <div>\n",
       "      \n",
       "      <progress value='6610' max='6610' style='width:300px; height:20px; vertical-align: middle;'></progress>\n",
       "      [6610/6610 56:58, Epoch 2/2]\n",
       "    </div>\n",
       "    <table border=\"1\" class=\"dataframe\">\n",
       "  <thead>\n",
       " <tr style=\"text-align: left;\">\n",
       "      <th>Epoch</th>\n",
       "      <th>Training Loss</th>\n",
       "      <th>Validation Loss</th>\n",
       "      <th>Accuracy</th>\n",
       "      <th>F1 Mean</th>\n",
       "      <th>F1</th>\n",
       "      <th>Precision</th>\n",
       "      <th>Recall</th>\n",
       "    </tr>\n",
       "  </thead>\n",
       "  <tbody>\n",
       "    <tr>\n",
       "      <td>1</td>\n",
       "      <td>0.924100</td>\n",
       "      <td>0.900037</td>\n",
       "      <td>0.688445</td>\n",
       "      <td>0.686624</td>\n",
       "      <td>[0.6890756302521008, 0.6984318455971049, 0.6723646723646723]</td>\n",
       "      <td>[0.6655844155844156, 0.6803760282021152, 0.7165991902834008]</td>\n",
       "      <td>[0.7142857142857143, 0.7174721189591078, 0.6332737030411449]</td>\n",
       "    </tr>\n",
       "    <tr>\n",
       "      <td>2</td>\n",
       "      <td>0.868400</td>\n",
       "      <td>1.125993</td>\n",
       "      <td>0.701754</td>\n",
       "      <td>0.699857</td>\n",
       "      <td>[0.6980108499095841, 0.7095990279465371, 0.6919602529358627]</td>\n",
       "      <td>[0.7255639097744361, 0.6960667461263409, 0.698905109489051]</td>\n",
       "      <td>[0.6724738675958188, 0.7236679058240396, 0.6851520572450805]</td>\n",
       "    </tr>\n",
       "  </tbody>\n",
       "</table><p>"
      ]
     },
     "metadata": {},
     "output_type": "display_data"
    },
    {
     "data": {
      "text/plain": [
       "<IPython.core.display.HTML object>"
      ],
      "text/html": [
       "\n",
       "    <div>\n",
       "      \n",
       "      <progress value='827' max='827' style='width:300px; height:20px; vertical-align: middle;'></progress>\n",
       "      [827/827 01:40]\n",
       "    </div>\n",
       "    "
      ]
     },
     "metadata": {},
     "output_type": "display_data"
    },
    {
     "name": "stdout",
     "output_type": "stream",
     "text": [
      "{'eval_loss': 1.1259928941726685, 'eval_accuracy': 0.7017543859649122, 'eval_f1_mean': 0.6998567102639947, 'eval_f1': [0.6980108499095841, 0.7095990279465371, 0.6919602529358627], 'eval_precision': [0.7255639097744361, 0.6960667461263409, 0.698905109489051], 'eval_recall': [0.6724738675958188, 0.7236679058240396, 0.6851520572450805], 'eval_runtime': 100.8809, 'eval_samples_per_second': 16.386, 'eval_steps_per_second': 8.198, 'epoch': 2.0}\n"
     ]
    },
    {
     "name": "stderr",
     "output_type": "stream",
     "text": [
      "Some weights of BertForSequenceClassification were not initialized from the model checkpoint at ai-forever/ruBert-base and are newly initialized: ['classifier.bias', 'classifier.weight']\n",
      "You should probably TRAIN this model on a down-stream task to be able to use it for predictions and inference.\n",
      "C:\\Users\\bred7\\anaconda3\\envs\\vyatsu_environment\\Lib\\site-packages\\transformers\\training_args.py:1545: FutureWarning: `evaluation_strategy` is deprecated and will be removed in version 4.46 of 🤗 Transformers. Use `eval_strategy` instead\n",
      "  warnings.warn(\n"
     ]
    },
    {
     "data": {
      "text/plain": [
       "<IPython.core.display.HTML object>"
      ],
      "text/html": [
       "\n",
       "    <div>\n",
       "      \n",
       "      <progress value='9915' max='9915' style='width:300px; height:20px; vertical-align: middle;'></progress>\n",
       "      [9915/9915 1:25:35, Epoch 3/3]\n",
       "    </div>\n",
       "    <table border=\"1\" class=\"dataframe\">\n",
       "  <thead>\n",
       " <tr style=\"text-align: left;\">\n",
       "      <th>Epoch</th>\n",
       "      <th>Training Loss</th>\n",
       "      <th>Validation Loss</th>\n",
       "      <th>Accuracy</th>\n",
       "      <th>F1 Mean</th>\n",
       "      <th>F1</th>\n",
       "      <th>Precision</th>\n",
       "      <th>Recall</th>\n",
       "    </tr>\n",
       "  </thead>\n",
       "  <tbody>\n",
       "    <tr>\n",
       "      <td>1</td>\n",
       "      <td>0.926200</td>\n",
       "      <td>0.870662</td>\n",
       "      <td>0.686630</td>\n",
       "      <td>0.687102</td>\n",
       "      <td>[0.6989966555183946, 0.6937537901758641, 0.6685552407932012]</td>\n",
       "      <td>[0.6720257234726688, 0.6793349168646081, 0.708]</td>\n",
       "      <td>[0.7282229965156795, 0.7087980173482032, 0.6332737030411449]</td>\n",
       "    </tr>\n",
       "    <tr>\n",
       "      <td>2</td>\n",
       "      <td>0.894900</td>\n",
       "      <td>1.189744</td>\n",
       "      <td>0.695705</td>\n",
       "      <td>0.694982</td>\n",
       "      <td>[0.6894075403949731, 0.6926952141057935, 0.7028423772609819]</td>\n",
       "      <td>[0.7111111111111111, 0.704225352112676, 0.6777408637873754]</td>\n",
       "      <td>[0.6689895470383276, 0.6815365551425031, 0.7298747763864043]</td>\n",
       "    </tr>\n",
       "    <tr>\n",
       "      <td>3</td>\n",
       "      <td>0.668700</td>\n",
       "      <td>1.407323</td>\n",
       "      <td>0.701754</td>\n",
       "      <td>0.704196</td>\n",
       "      <td>[0.7155025553662692, 0.7000634115409005, 0.6970227670753065]</td>\n",
       "      <td>[0.7, 0.7168831168831169, 0.6826758147512865]</td>\n",
       "      <td>[0.7317073170731707, 0.6840148698884758, 0.7119856887298748]</td>\n",
       "    </tr>\n",
       "  </tbody>\n",
       "</table><p>"
      ]
     },
     "metadata": {},
     "output_type": "display_data"
    },
    {
     "data": {
      "text/plain": [
       "<IPython.core.display.HTML object>"
      ],
      "text/html": [
       "\n",
       "    <div>\n",
       "      \n",
       "      <progress value='827' max='827' style='width:300px; height:20px; vertical-align: middle;'></progress>\n",
       "      [827/827 01:41]\n",
       "    </div>\n",
       "    "
      ]
     },
     "metadata": {},
     "output_type": "display_data"
    },
    {
     "name": "stdout",
     "output_type": "stream",
     "text": [
      "{'eval_loss': 1.4073231220245361, 'eval_accuracy': 0.7017543859649122, 'eval_f1_mean': 0.7041962446608254, 'eval_f1': [0.7155025553662692, 0.7000634115409005, 0.6970227670753065], 'eval_precision': [0.7, 0.7168831168831169, 0.6826758147512865], 'eval_recall': [0.7317073170731707, 0.6840148698884758, 0.7119856887298748], 'eval_runtime': 101.2008, 'eval_samples_per_second': 16.334, 'eval_steps_per_second': 8.172, 'epoch': 3.0}\n"
     ]
    },
    {
     "name": "stderr",
     "output_type": "stream",
     "text": [
      "Some weights of BertForSequenceClassification were not initialized from the model checkpoint at ai-forever/ruBert-base and are newly initialized: ['classifier.bias', 'classifier.weight']\n",
      "You should probably TRAIN this model on a down-stream task to be able to use it for predictions and inference.\n",
      "C:\\Users\\bred7\\anaconda3\\envs\\vyatsu_environment\\Lib\\site-packages\\transformers\\training_args.py:1545: FutureWarning: `evaluation_strategy` is deprecated and will be removed in version 4.46 of 🤗 Transformers. Use `eval_strategy` instead\n",
      "  warnings.warn(\n"
     ]
    },
    {
     "data": {
      "text/plain": [
       "<IPython.core.display.HTML object>"
      ],
      "text/html": [
       "\n",
       "    <div>\n",
       "      \n",
       "      <progress value='16525' max='16525' style='width:300px; height:20px; vertical-align: middle;'></progress>\n",
       "      [16525/16525 2:22:39, Epoch 5/5]\n",
       "    </div>\n",
       "    <table border=\"1\" class=\"dataframe\">\n",
       "  <thead>\n",
       " <tr style=\"text-align: left;\">\n",
       "      <th>Epoch</th>\n",
       "      <th>Training Loss</th>\n",
       "      <th>Validation Loss</th>\n",
       "      <th>Accuracy</th>\n",
       "      <th>F1 Mean</th>\n",
       "      <th>F1</th>\n",
       "      <th>Precision</th>\n",
       "      <th>Recall</th>\n",
       "    </tr>\n",
       "  </thead>\n",
       "  <tbody>\n",
       "    <tr>\n",
       "      <td>1</td>\n",
       "      <td>0.929900</td>\n",
       "      <td>0.863426</td>\n",
       "      <td>0.689655</td>\n",
       "      <td>0.689172</td>\n",
       "      <td>[0.6959459459459459, 0.6973923590054578, 0.6741784037558686]</td>\n",
       "      <td>[0.6754098360655738, 0.6828978622327792, 0.7094861660079052]</td>\n",
       "      <td>[0.7177700348432056, 0.7125154894671624, 0.6422182468694096]</td>\n",
       "    </tr>\n",
       "    <tr>\n",
       "      <td>2</td>\n",
       "      <td>0.936300</td>\n",
       "      <td>1.229015</td>\n",
       "      <td>0.696915</td>\n",
       "      <td>0.695245</td>\n",
       "      <td>[0.6870503597122302, 0.6966854283927455, 0.7019982623805386]</td>\n",
       "      <td>[0.7100371747211895, 0.7032828282828283, 0.6824324324324325]</td>\n",
       "      <td>[0.6655052264808362, 0.6902106567534076, 0.7227191413237924]</td>\n",
       "    </tr>\n",
       "    <tr>\n",
       "      <td>3</td>\n",
       "      <td>0.666000</td>\n",
       "      <td>1.414410</td>\n",
       "      <td>0.692075</td>\n",
       "      <td>0.689914</td>\n",
       "      <td>[0.7163695299837926, 0.713697824808936, 0.6396761133603239]</td>\n",
       "      <td>[0.6696969696969697, 0.6789709172259508, 0.7365967365967366]</td>\n",
       "      <td>[0.7700348432055749, 0.7521685254027262, 0.5652951699463328]</td>\n",
       "    </tr>\n",
       "    <tr>\n",
       "      <td>4</td>\n",
       "      <td>0.588700</td>\n",
       "      <td>1.575537</td>\n",
       "      <td>0.701754</td>\n",
       "      <td>0.705490</td>\n",
       "      <td>[0.7213675213675214, 0.6974683544303798, 0.6976336546888694]</td>\n",
       "      <td>[0.7080536912751678, 0.7128072445019404, 0.6838487972508591]</td>\n",
       "      <td>[0.735191637630662, 0.6827757125154895, 0.7119856887298748]</td>\n",
       "    </tr>\n",
       "    <tr>\n",
       "      <td>5</td>\n",
       "      <td>0.430500</td>\n",
       "      <td>1.777277</td>\n",
       "      <td>0.693890</td>\n",
       "      <td>0.696146</td>\n",
       "      <td>[0.7087719298245614, 0.6952203600248293, 0.6844444444444444]</td>\n",
       "      <td>[0.7137809187279152, 0.6965174129353234, 0.6802120141342756]</td>\n",
       "      <td>[0.7038327526132404, 0.6939281288723668, 0.6887298747763864]</td>\n",
       "    </tr>\n",
       "  </tbody>\n",
       "</table><p>"
      ]
     },
     "metadata": {},
     "output_type": "display_data"
    },
    {
     "data": {
      "text/plain": [
       "<IPython.core.display.HTML object>"
      ],
      "text/html": [
       "\n",
       "    <div>\n",
       "      \n",
       "      <progress value='827' max='827' style='width:300px; height:20px; vertical-align: middle;'></progress>\n",
       "      [827/827 01:40]\n",
       "    </div>\n",
       "    "
      ]
     },
     "metadata": {},
     "output_type": "display_data"
    },
    {
     "name": "stdout",
     "output_type": "stream",
     "text": [
      "{'eval_loss': 1.7772767543792725, 'eval_accuracy': 0.6938898971566848, 'eval_f1_mean': 0.6961455780979451, 'eval_f1': [0.7087719298245614, 0.6952203600248293, 0.6844444444444444], 'eval_precision': [0.7137809187279152, 0.6965174129353234, 0.6802120141342756], 'eval_recall': [0.7038327526132404, 0.6939281288723668, 0.6887298747763864], 'eval_runtime': 100.4934, 'eval_samples_per_second': 16.449, 'eval_steps_per_second': 8.229, 'epoch': 5.0}\n"
     ]
    }
   ],
   "execution_count": 12
  },
  {
   "metadata": {
    "ExecuteTime": {
     "end_time": "2024-12-13T22:41:49.406461Z",
     "start_time": "2024-12-13T22:41:49.351133Z"
    }
   },
   "cell_type": "code",
   "source": [
    "hyperparameters_stats_df.to_csv('hyperparameters_stats.csv')\n",
    "hyperparameters_stats_df"
   ],
   "outputs": [
    {
     "data": {
      "text/plain": [
       "   epochs  f1-score   train_time   eval_time\n",
       "0     1.0  0.682870  1710.766051  100.440995\n",
       "1     2.0  0.699857  3419.633710  100.884864\n",
       "2     3.0  0.704196  5136.203120  101.204846\n",
       "3     5.0  0.696146  8561.273212  100.497365"
      ],
      "text/html": [
       "<div>\n",
       "<style scoped>\n",
       "    .dataframe tbody tr th:only-of-type {\n",
       "        vertical-align: middle;\n",
       "    }\n",
       "\n",
       "    .dataframe tbody tr th {\n",
       "        vertical-align: top;\n",
       "    }\n",
       "\n",
       "    .dataframe thead th {\n",
       "        text-align: right;\n",
       "    }\n",
       "</style>\n",
       "<table border=\"1\" class=\"dataframe\">\n",
       "  <thead>\n",
       "    <tr style=\"text-align: right;\">\n",
       "      <th></th>\n",
       "      <th>epochs</th>\n",
       "      <th>f1-score</th>\n",
       "      <th>train_time</th>\n",
       "      <th>eval_time</th>\n",
       "    </tr>\n",
       "  </thead>\n",
       "  <tbody>\n",
       "    <tr>\n",
       "      <th>0</th>\n",
       "      <td>1.0</td>\n",
       "      <td>0.682870</td>\n",
       "      <td>1710.766051</td>\n",
       "      <td>100.440995</td>\n",
       "    </tr>\n",
       "    <tr>\n",
       "      <th>1</th>\n",
       "      <td>2.0</td>\n",
       "      <td>0.699857</td>\n",
       "      <td>3419.633710</td>\n",
       "      <td>100.884864</td>\n",
       "    </tr>\n",
       "    <tr>\n",
       "      <th>2</th>\n",
       "      <td>3.0</td>\n",
       "      <td>0.704196</td>\n",
       "      <td>5136.203120</td>\n",
       "      <td>101.204846</td>\n",
       "    </tr>\n",
       "    <tr>\n",
       "      <th>3</th>\n",
       "      <td>5.0</td>\n",
       "      <td>0.696146</td>\n",
       "      <td>8561.273212</td>\n",
       "      <td>100.497365</td>\n",
       "    </tr>\n",
       "  </tbody>\n",
       "</table>\n",
       "</div>"
      ]
     },
     "execution_count": 13,
     "metadata": {},
     "output_type": "execute_result"
    }
   ],
   "execution_count": 13
  },
  {
   "metadata": {
    "ExecuteTime": {
     "end_time": "2024-12-13T22:41:50.051343Z",
     "start_time": "2024-12-13T22:41:49.497279Z"
    }
   },
   "cell_type": "code",
   "source": [
    "plt.figure(figsize=(10, 6))\n",
    "plt.plot(hyperparameters_stats_df['epochs'], hyperparameters_stats_df['f1-score'])\n",
    "plt.xlabel('Epochs')\n",
    "plt.ylabel('F1-score')\n",
    "plt.title('F1-score depending on the number of epochs')\n",
    "plt.show()"
   ],
   "outputs": [
    {
     "data": {
      "text/plain": [
       "<Figure size 1000x600 with 1 Axes>"
      ],
      "image/png": "[encoded data removed]"
     },
     "metadata": {},
     "output_type": "display_data"
    }
   ],
   "execution_count": 14
  },
  {
   "metadata": {
    "ExecuteTime": {
     "end_time": "2024-12-13T23:39:20.864095Z",
     "start_time": "2024-12-13T23:01:59.811269Z"
    }
   },
   "cell_type": "code",
   "source": [
    "epochs_number = 1\n",
    "\n",
    "np.random.seed(seed)\n",
    "torch.manual_seed(seed)\n",
    "random.seed(seed)\n",
    "\n",
    "model = BertForSequenceClassification.from_pretrained(PRE_TRAINED_MODEL_NAME, config=config)\n",
    "model.to(device)\n",
    "\n",
    "training_args = TrainingArguments(\n",
    "    output_dir='./results',\n",
    "    overwrite_output_dir=True,\n",
    "    save_steps=5000,\n",
    "    num_train_epochs=epochs_number,\n",
    "    per_device_train_batch_size=2,\n",
    "    per_device_eval_batch_size=2,\n",
    "    weight_decay=0.01,\n",
    "    learning_rate=1e-5,\n",
    "    logging_dir='./logs',\n",
    "    evaluation_strategy='epoch',\n",
    ")\n",
    "\n",
    "trainer = Trainer(\n",
    "    model=model,\n",
    "    args=training_args,\n",
    "    train_dataset=full_train_dataset,\n",
    "    eval_dataset=full_test_dataset,\n",
    "    compute_metrics=compute_metrics\n",
    ")\n",
    "\n",
    "train_start_time = time()\n",
    "trainer.train()\n",
    "train_end_time = time()\n",
    "\n",
    "eval_start_time = time()\n",
    "eval_results = trainer.evaluate(eval_dataset)\n",
    "eval_end_time = time()\n",
    "\n",
    "print(eval_results)\n",
    "macro_f1_score = np.mean(eval_results['eval_f1'])\n",
    "append_stats(epochs_number, macro_f1_score, train_end_time - train_start_time, eval_end_time - eval_start_time)"
   ],
   "outputs": [
    {
     "name": "stderr",
     "output_type": "stream",
     "text": [
      "Some weights of BertForSequenceClassification were not initialized from the model checkpoint at ai-forever/ruBert-base and are newly initialized: ['classifier.bias', 'classifier.weight']\n",
      "You should probably TRAIN this model on a down-stream task to be able to use it for predictions and inference.\n",
      "C:\\Users\\bred7\\anaconda3\\envs\\vyatsu_environment\\Lib\\site-packages\\transformers\\training_args.py:1545: FutureWarning: `evaluation_strategy` is deprecated and will be removed in version 4.46 of 🤗 Transformers. Use `eval_strategy` instead\n",
      "  warnings.warn(\n"
     ]
    },
    {
     "data": {
      "text/plain": [
       "<IPython.core.display.HTML object>"
      ],
      "text/html": [
       "\n",
       "    <div>\n",
       "      \n",
       "      <progress value='4132' max='4132' style='width:300px; height:20px; vertical-align: middle;'></progress>\n",
       "      [4132/4132 35:37, Epoch 1/1]\n",
       "    </div>\n",
       "    <table border=\"1\" class=\"dataframe\">\n",
       "  <thead>\n",
       " <tr style=\"text-align: left;\">\n",
       "      <th>Epoch</th>\n",
       "      <th>Training Loss</th>\n",
       "      <th>Validation Loss</th>\n",
       "    </tr>\n",
       "  </thead>\n",
       "  <tbody>\n",
       "    <tr>\n",
       "      <td>1</td>\n",
       "      <td>1.042300</td>\n",
       "      <td>No log</td>\n",
       "    </tr>\n",
       "  </tbody>\n",
       "</table><p>"
      ]
     },
     "metadata": {},
     "output_type": "display_data"
    },
    {
     "data": {
      "text/plain": [
       "<IPython.core.display.HTML object>"
      ],
      "text/html": [
       "\n",
       "    <div>\n",
       "      \n",
       "      <progress value='827' max='827' style='width:300px; height:20px; vertical-align: middle;'></progress>\n",
       "      [827/827 01:40]\n",
       "    </div>\n",
       "    "
      ]
     },
     "metadata": {},
     "output_type": "display_data"
    },
    {
     "name": "stdout",
     "output_type": "stream",
     "text": [
      "{'eval_loss': 0.820832371711731, 'eval_accuracy': 0.7332123411978222, 'eval_f1_mean': 0.7328821693515023, 'eval_f1': [0.7358834244080146, 0.738255033557047, 0.7245080500894454], 'eval_precision': [0.7709923664122137, 0.7271634615384616, 0.7245080500894454], 'eval_recall': [0.7038327526132404, 0.7496902106567535, 0.7245080500894454], 'eval_runtime': 100.6889, 'eval_samples_per_second': 16.417, 'eval_steps_per_second': 8.213, 'epoch': 1.0}\n"
     ]
    }
   ],
   "execution_count": 17
  },
  {
   "metadata": {
    "ExecuteTime": {
     "end_time": "2024-12-13T23:39:22.390677Z",
     "start_time": "2024-12-13T23:39:20.954664Z"
    }
   },
   "cell_type": "code",
   "source": "torch.save(model, \"bert_trained_1e.pt\")",
   "outputs": [],
   "execution_count": 18
  },
  {
   "metadata": {},
   "cell_type": "markdown",
   "source": [
    "### Задание 2. Использование BERT как модель для формирования векторных представлений текстов\n",
    "Основная функция BERT-подобных моделей – формирование контекстно-ориентированных векторных представлений текстов.  \n",
    "В данном задании нужно будет сделать следующее:\n",
    "1) обучить RuBERT (как в предыдущем задании);\n",
    "1) получить из него векторные представления обучающих текстов (например, вектор токена `[CLS]` или среднее векторов всех токенов на последнем слое (см. варианты [здесь](https://mccormickml.com/2019/05/14/BERT-word-embeddings-tutorial/#35-pooling-strategy--layer-choice));\n",
    "1) применить традиционные модели машинного обучения (логистическая регрессия, SVM, градиентный бустинг и т.п.). Не забывайте про подбор гиперапараметров;\n",
    "1) получить оценки качества – на таком же разбиении, как в предыдущем задании.\n",
    "\n",
    "Выведите результаты и время построения моделей в удобном табличном виде, а также в виде графиков."
   ]
  },
  {
   "cell_type": "code",
   "metadata": {
    "ExecuteTime": {
     "end_time": "2024-12-14T06:29:50.282379Z",
     "start_time": "2024-12-14T06:14:42.738571Z"
    }
   },
   "source": [
    "cut_model = model.bert\n",
    "\n",
    "def vectorize(text):\n",
    "    inputs = tokenizer(\n",
    "        text,\n",
    "        return_tensors='pt',\n",
    "        max_length=MAX_LEN,\n",
    "        padding='max_length',\n",
    "        truncation='longest_first'\n",
    "    )\n",
    "    inputs.to(device)\n",
    "    \n",
    "    with torch.no_grad():\n",
    "        outputs = cut_model(**inputs)\n",
    "    \n",
    "    cut_model_output = outputs.last_hidden_state\n",
    "    mean_output = torch.mean(cut_model_output, dim=1)\n",
    "    return mean_output.cpu().numpy()[0]\n",
    "\n",
    "full_train_dataset_vectorized = full_train_dataset.map(lambda x: {'vector': vectorize(x['text'])})\n",
    "full_test_dataset_vectorized = full_test_dataset.map(lambda x: {'vector': vectorize(x['text'])})"
   ],
   "outputs": [
    {
     "data": {
      "text/plain": [
       "Map:   0%|          | 0/8263 [00:00<?, ? examples/s]"
      ],
      "application/vnd.jupyter.widget-view+json": {
       "version_major": 2,
       "version_minor": 0,
       "model_id": "ca7774a60fb34051968a530f3779f0d2"
      }
     },
     "metadata": {},
     "output_type": "display_data"
    },
    {
     "data": {
      "text/plain": [
       "Map:   0%|          | 0/2056 [00:00<?, ? examples/s]"
      ],
      "application/vnd.jupyter.widget-view+json": {
       "version_major": 2,
       "version_minor": 0,
       "model_id": "6b32662625f54b2195b602cd8cec1595"
      }
     },
     "metadata": {},
     "output_type": "display_data"
    },
    {
     "data": {
      "text/plain": [
       "Dataset({\n",
       "    features: ['text', 'id', 'sentiment', 'label', 'input_ids', 'token_type_ids', 'attention_mask'],\n",
       "    num_rows: 8263\n",
       "})"
      ]
     },
     "execution_count": 50,
     "metadata": {},
     "output_type": "execute_result"
    }
   ],
   "execution_count": 50
  },
  {
   "metadata": {
    "ExecuteTime": {
     "end_time": "2024-12-14T06:46:44.891315Z",
     "start_time": "2024-12-14T06:34:50.574810Z"
    }
   },
   "cell_type": "code",
   "source": [
    "train_dataset_vectorized = train_dataset.map(lambda x: {'vector': vectorize(x['text'])})\n",
    "eval_dataset_vectorized = eval_dataset.map(lambda x: {'vector': vectorize(x['text'])})"
   ],
   "outputs": [
    {
     "data": {
      "text/plain": [
       "Map:   0%|          | 0/6610 [00:00<?, ? examples/s]"
      ],
      "application/vnd.jupyter.widget-view+json": {
       "version_major": 2,
       "version_minor": 0,
       "model_id": "f98c3313839c480d93c671c2c811192b"
      }
     },
     "metadata": {},
     "output_type": "display_data"
    },
    {
     "data": {
      "text/plain": [
       "Map:   0%|          | 0/1653 [00:00<?, ? examples/s]"
      ],
      "application/vnd.jupyter.widget-view+json": {
       "version_major": 2,
       "version_minor": 0,
       "model_id": "08b36b148f8c4174ad769c9c57ffdb92"
      }
     },
     "metadata": {},
     "output_type": "display_data"
    }
   ],
   "execution_count": 56
  },
  {
   "metadata": {
    "ExecuteTime": {
     "end_time": "2024-12-14T06:46:59.924125Z",
     "start_time": "2024-12-14T06:46:50.873901Z"
    }
   },
   "cell_type": "code",
   "source": [
    "train_x = np.array([x['vector'] for x in train_dataset_vectorized])\n",
    "train_y = np.array([x['label'] for x in train_dataset_vectorized])\n",
    "eval_x = np.array([x['vector'] for x in eval_dataset_vectorized])\n",
    "eval_y = np.array([x['label'] for x in eval_dataset_vectorized])"
   ],
   "outputs": [],
   "execution_count": 57
  },
  {
   "metadata": {
    "ExecuteTime": {
     "end_time": "2024-12-14T07:06:50.676838Z",
     "start_time": "2024-12-14T06:46:59.929127Z"
    }
   },
   "cell_type": "code",
   "source": [
    "from sklearn.linear_model import LogisticRegression\n",
    "from sklearn.svm import SVC\n",
    "from sklearn.ensemble import GradientBoostingClassifier\n",
    "\n",
    "hyperparameters_stats_df = pd.DataFrame(\n",
    "    data=None,\n",
    "    columns=['model', 'hyperparameters', 'f1-score', 'train_time', 'eval_time'])\n",
    "hyperparameters_stats_df_index = 0\n",
    "\n",
    "def append_stats(model_name, hyperparameters, score, train_time, eval_time):\n",
    "    global hyperparameters_stats_df_index\n",
    "    hyperparameters_stats_df.loc[hyperparameters_stats_df_index] = [model_name, hyperparameters, score, train_time, eval_time]\n",
    "    hyperparameters_stats_df_index += 1\n",
    "  \n",
    "\n",
    "for C in [0.1, 1, 10]:\n",
    "    model = LogisticRegression(max_iter=1000, C=C)\n",
    "    \n",
    "    train_start_time = time()\n",
    "    model.fit(train_x, train_y)\n",
    "    train_end_time = time()\n",
    "    \n",
    "    eval_start_time = time()\n",
    "    eval_predictions = model.predict(eval_x)\n",
    "    eval_end_time = time()\n",
    "    \n",
    "    f1_score = precision_recall_fscore_support(eval_y, eval_predictions, average='macro')[2]\n",
    "    append_stats('Logistic Regression', {'C': C}, f1_score, train_end_time - train_start_time, eval_end_time - eval_start_time)\n",
    "    \n",
    "for C in [0.1, 1, 10]:\n",
    "    model = SVC(C=C)\n",
    "    \n",
    "    train_start_time = time()\n",
    "    model.fit(train_x, train_y)\n",
    "    train_end_time = time()\n",
    "    \n",
    "    eval_start_time = time()\n",
    "    eval_predictions = model.predict(eval_x)\n",
    "    eval_end_time = time()\n",
    "    \n",
    "    f1_score = precision_recall_fscore_support(eval_y, eval_predictions, average='macro')[2]\n",
    "    append_stats('SVM', {'C': C}, f1_score, train_end_time - train_start_time, eval_end_time - eval_start_time)\n",
    "    \n",
    "for n_estimators in [10, 50, 100]:\n",
    "    model = GradientBoostingClassifier(n_estimators=n_estimators)\n",
    "    \n",
    "    train_start_time = time()\n",
    "    model.fit(train_x, train_y)\n",
    "    train_end_time = time()\n",
    "    \n",
    "    eval_start_time = time()\n",
    "    eval_predictions = model.predict(eval_x)\n",
    "    eval_end_time = time()\n",
    "    \n",
    "    f1_score = precision_recall_fscore_support(eval_y, eval_predictions, average='macro')[2]\n",
    "    append_stats('Gradient Boosting', {'n_estimators': n_estimators}, f1_score, train_end_time - train_start_time, eval_end_time - eval_start_time)"
   ],
   "outputs": [],
   "execution_count": 58
  },
  {
   "metadata": {
    "ExecuteTime": {
     "end_time": "2024-12-14T07:06:51.150149Z",
     "start_time": "2024-12-14T07:06:51.133324Z"
    }
   },
   "cell_type": "code",
   "source": [
    "hyperparameters_stats_df.to_csv('hyperparameters_stats_vectorized.csv')\n",
    "hyperparameters_stats_df"
   ],
   "outputs": [
    {
     "data": {
      "text/plain": [
       "                 model        hyperparameters  f1-score  train_time  eval_time\n",
       "0  Logistic Regression             {'C': 0.1}  0.739225    2.025602   0.005996\n",
       "1  Logistic Regression               {'C': 1}  0.727618    4.417614   0.005990\n",
       "2  Logistic Regression              {'C': 10}  0.715839    8.065708   0.005995\n",
       "3                  SVM             {'C': 0.1}  0.717682   14.978484   4.595023\n",
       "4                  SVM               {'C': 1}  0.735268   15.182518   4.826404\n",
       "5                  SVM              {'C': 10}  0.749941   13.979378   4.644447\n",
       "6    Gradient Boosting   {'n_estimators': 10}  0.721282   68.904488   0.006004\n",
       "7    Gradient Boosting   {'n_estimators': 50}  0.725982  348.808835   0.024918\n",
       "8    Gradient Boosting  {'n_estimators': 100}  0.724478  699.887645   0.018979"
      ],
      "text/html": [
       "<div>\n",
       "<style scoped>\n",
       "    .dataframe tbody tr th:only-of-type {\n",
       "        vertical-align: middle;\n",
       "    }\n",
       "\n",
       "    .dataframe tbody tr th {\n",
       "        vertical-align: top;\n",
       "    }\n",
       "\n",
       "    .dataframe thead th {\n",
       "        text-align: right;\n",
       "    }\n",
       "</style>\n",
       "<table border=\"1\" class=\"dataframe\">\n",
       "  <thead>\n",
       "    <tr style=\"text-align: right;\">\n",
       "      <th></th>\n",
       "      <th>model</th>\n",
       "      <th>hyperparameters</th>\n",
       "      <th>f1-score</th>\n",
       "      <th>train_time</th>\n",
       "      <th>eval_time</th>\n",
       "    </tr>\n",
       "  </thead>\n",
       "  <tbody>\n",
       "    <tr>\n",
       "      <th>0</th>\n",
       "      <td>Logistic Regression</td>\n",
       "      <td>{'C': 0.1}</td>\n",
       "      <td>0.739225</td>\n",
       "      <td>2.025602</td>\n",
       "      <td>0.005996</td>\n",
       "    </tr>\n",
       "    <tr>\n",
       "      <th>1</th>\n",
       "      <td>Logistic Regression</td>\n",
       "      <td>{'C': 1}</td>\n",
       "      <td>0.727618</td>\n",
       "      <td>4.417614</td>\n",
       "      <td>0.005990</td>\n",
       "    </tr>\n",
       "    <tr>\n",
       "      <th>2</th>\n",
       "      <td>Logistic Regression</td>\n",
       "      <td>{'C': 10}</td>\n",
       "      <td>0.715839</td>\n",
       "      <td>8.065708</td>\n",
       "      <td>0.005995</td>\n",
       "    </tr>\n",
       "    <tr>\n",
       "      <th>3</th>\n",
       "      <td>SVM</td>\n",
       "      <td>{'C': 0.1}</td>\n",
       "      <td>0.717682</td>\n",
       "      <td>14.978484</td>\n",
       "      <td>4.595023</td>\n",
       "    </tr>\n",
       "    <tr>\n",
       "      <th>4</th>\n",
       "      <td>SVM</td>\n",
       "      <td>{'C': 1}</td>\n",
       "      <td>0.735268</td>\n",
       "      <td>15.182518</td>\n",
       "      <td>4.826404</td>\n",
       "    </tr>\n",
       "    <tr>\n",
       "      <th>5</th>\n",
       "      <td>SVM</td>\n",
       "      <td>{'C': 10}</td>\n",
       "      <td>0.749941</td>\n",
       "      <td>13.979378</td>\n",
       "      <td>4.644447</td>\n",
       "    </tr>\n",
       "    <tr>\n",
       "      <th>6</th>\n",
       "      <td>Gradient Boosting</td>\n",
       "      <td>{'n_estimators': 10}</td>\n",
       "      <td>0.721282</td>\n",
       "      <td>68.904488</td>\n",
       "      <td>0.006004</td>\n",
       "    </tr>\n",
       "    <tr>\n",
       "      <th>7</th>\n",
       "      <td>Gradient Boosting</td>\n",
       "      <td>{'n_estimators': 50}</td>\n",
       "      <td>0.725982</td>\n",
       "      <td>348.808835</td>\n",
       "      <td>0.024918</td>\n",
       "    </tr>\n",
       "    <tr>\n",
       "      <th>8</th>\n",
       "      <td>Gradient Boosting</td>\n",
       "      <td>{'n_estimators': 100}</td>\n",
       "      <td>0.724478</td>\n",
       "      <td>699.887645</td>\n",
       "      <td>0.018979</td>\n",
       "    </tr>\n",
       "  </tbody>\n",
       "</table>\n",
       "</div>"
      ]
     },
     "execution_count": 59,
     "metadata": {},
     "output_type": "execute_result"
    }
   ],
   "execution_count": 59
  },
  {
   "cell_type": "markdown",
   "metadata": {
    "jp-MarkdownHeadingCollapsed": true,
    "tags": []
   },
   "source": [
    "### Задание 3. Оценка качества классификации на Kaggle\n",
    "Выберите лучшую модель, обучите её на всем обучающем корпусе, получите предсказания для тестовых данных и отправьте результаты на Kaggle.  \n",
    "\n",
    "Сравните полученные результаты с результатами на Kaggle: https://www.kaggle.com/c/sentiment-analysis-in-russian/leaderboard.\n",
    "\n",
    "Выведите кроме `macro F1-score` следующие метрики для отложенной выборки:\n",
    "- `F1-score` по каждому классу;\n",
    "- `Precision` и `Recall` по каждому классу;\n",
    "- `Confusion matrix` по каждому классу и для всей выборки.\n",
    "\n",
    "Сделайте выводы в целом по своим исследованиям – приведите в одной таблице несколько лучших моделей с указанием параметров и времени работы."
   ]
  },
  {
   "metadata": {
    "ExecuteTime": {
     "end_time": "2024-12-14T07:27:25.989877Z",
     "start_time": "2024-12-14T07:27:07.259942Z"
    }
   },
   "cell_type": "code",
   "source": [
    "model = SVC(C=10)\n",
    "model.fit(train_x, train_y)\n",
    "test_predictions = model.predict(eval_x)\n",
    "\n",
    "print(sklearn.metrics.classification_report(eval_y, test_predictions, target_names=['negative', 'neutral', 'positive']))"
   ],
   "outputs": [
    {
     "name": "stdout",
     "output_type": "stream",
     "text": [
      "              precision    recall  f1-score   support\n",
      "\n",
      "    negative       0.77      0.77      0.77       287\n",
      "     neutral       0.75      0.75      0.75       807\n",
      "    positive       0.73      0.73      0.73       559\n",
      "\n",
      "    accuracy                           0.75      1653\n",
      "   macro avg       0.75      0.75      0.75      1653\n",
      "weighted avg       0.75      0.75      0.75      1653\n",
      "\n"
     ]
    }
   ],
   "execution_count": 88
  },
  {
   "metadata": {
    "ExecuteTime": {
     "end_time": "2024-12-14T07:35:28.427948Z",
     "start_time": "2024-12-14T07:35:28.164345Z"
    }
   },
   "cell_type": "code",
   "source": "sklearn.metrics.ConfusionMatrixDisplay(confusion_matrix(eval_y, test_predictions), display_labels=['negative', 'neutral', 'positive']).plot()",
   "outputs": [
    {
     "data": {
      "text/plain": [
       "<sklearn.metrics._plot.confusion_matrix.ConfusionMatrixDisplay at 0x1c19a547850>"
      ]
     },
     "execution_count": 101,
     "metadata": {},
     "output_type": "execute_result"
    },
    {
     "data": {
      "text/plain": [
       "<Figure size 640x480 with 2 Axes>"
      ],
      "image/png": "[encoded data removed]"
     },
     "metadata": {},
     "output_type": "display_data"
    }
   ],
   "execution_count": 101
  },
  {
   "metadata": {
    "ExecuteTime": {
     "end_time": "2024-12-14T07:36:55.544435Z",
     "start_time": "2024-12-14T07:36:46.405627Z"
    }
   },
   "cell_type": "code",
   "source": [
    "all_train_x = np.array([x['vector'] for x in full_train_dataset_vectorized])\n",
    "all_train_y = np.array([x['label'] for x in full_train_dataset])\n",
    "test_x = np.array([x['vector'] for x in full_test_dataset_vectorized])"
   ],
   "outputs": [],
   "execution_count": 103
  },
  {
   "metadata": {
    "ExecuteTime": {
     "end_time": "2024-12-14T07:37:24.897521Z",
     "start_time": "2024-12-14T07:36:55.549440Z"
    }
   },
   "cell_type": "code",
   "source": [
    "model = SVC(C=10)\n",
    "model.fit(all_train_x, all_train_y)\n",
    "test_predictions = model.predict(test_x)"
   ],
   "outputs": [],
   "execution_count": 104
  },
  {
   "metadata": {
    "ExecuteTime": {
     "end_time": "2024-12-14T07:38:36.525419Z",
     "start_time": "2024-12-14T07:38:36.518867Z"
    }
   },
   "cell_type": "code",
   "source": "test_predictions",
   "outputs": [
    {
     "data": {
      "text/plain": [
       "array([2, 2, 0, ..., 2, 1, 0], dtype=int64)"
      ]
     },
     "execution_count": 107,
     "metadata": {},
     "output_type": "execute_result"
    }
   ],
   "execution_count": 107
  },
  {
   "metadata": {
    "ExecuteTime": {
     "end_time": "2024-12-14T07:40:37.454484Z",
     "start_time": "2024-12-14T07:40:37.447921Z"
    }
   },
   "cell_type": "code",
   "source": [
    "full_test_data['sentiment'] = test_predictions\n",
    "full_test_data['sentiment'] = full_test_data['sentiment'].map({0: 'negative', 1: 'neutral', 2: 'positive'})"
   ],
   "outputs": [],
   "execution_count": 112
  },
  {
   "metadata": {
    "ExecuteTime": {
     "end_time": "2024-12-14T07:40:39.139038Z",
     "start_time": "2024-12-14T07:40:39.130347Z"
    }
   },
   "cell_type": "code",
   "source": [
    "with open('submission.csv', 'w') as f:\n",
    "    f.write(full_test_data[['id', 'sentiment']].to_csv(index=False))"
   ],
   "outputs": [],
   "execution_count": 113
  }
 ],
 "metadata": {
  "kernelspec": {
   "display_name": "Python 3 (ipykernel)",
   "language": "python",
   "name": "python3"
  },
  "language_info": {
   "codemirror_mode": {
    "name": "ipython",
    "version": 3
   },
   "file_extension": ".py",
   "mimetype": "text/x-python",
   "name": "python",
   "nbconvert_exporter": "python",
   "pygments_lexer": "ipython3",
   "version": "3.9.12"
  }
 },
 "nbformat": 4,
 "nbformat_minor": 4
}
